{
 "cells": [
  {
   "cell_type": "code",
   "execution_count": null,
   "id": "a40ef412",
   "metadata": {},
   "outputs": [],
   "source": [
    "\"\"\"\n",
    "Question1\n",
    "Create a function that takes a list of strings and integers, and filters out the list so that it returns a list of integers only.\n",
    "Examples\n",
    "filter_list([1, 2, 3, \"a\", \"b\", 4]) ➞ [1, 2, 3, 4]\n",
    "\n",
    "filter_list([\"A\", 0, \"Edabit\", 1729, \"Python\", \"1729\"]) ➞ [0, 1729]\n",
    "\n",
    "filter_list([\"Nothing\", \"here\"]) ➞ []\n",
    "\n",
    "\n",
    "\"\"\""
   ]
  },
  {
   "cell_type": "code",
   "execution_count": 2,
   "id": "1169f268",
   "metadata": {},
   "outputs": [
    {
     "name": "stdout",
     "output_type": "stream",
     "text": [
      "[1, 5, 3, 7, 4]\n"
     ]
    }
   ],
   "source": [
    "def filter_list(ip_list):\n",
    "    op_list = []\n",
    "    for i in range(0,len(ip_list)):\n",
    "        if type(ip_list[i]) == int:\n",
    "            op_list.append(ip_list[i])\n",
    "    print(op_list)\n",
    "    \n",
    "ip_list = [1,5,3,7,'a','l',4]\n",
    "filter_list(ip_list)"
   ]
  },
  {
   "cell_type": "code",
   "execution_count": null,
   "id": "d09a7253",
   "metadata": {},
   "outputs": [],
   "source": [
    "\"\"\"\n",
    "Question2\n",
    "Given a list of numbers, create a function which returns the list but with each element's index in the list added to itself. This means you add 0 to the number at index 0, add 1 to the number at index 1, etc...\n",
    "Examples\n",
    "add_indexes([0, 0, 0, 0, 0]) ➞ [0, 1, 2, 3, 4]\n",
    "\n",
    "add_indexes([1, 2, 3, 4, 5]) ➞ [1, 3, 5, 7, 9]\n",
    "\n",
    "add_indexes([5, 4, 3, 2, 1]) ➞ [5, 5, 5, 5, 5]\n",
    "\n",
    "\n",
    "\"\"\""
   ]
  },
  {
   "cell_type": "code",
   "execution_count": 8,
   "id": "18266558",
   "metadata": {},
   "outputs": [
    {
     "name": "stdout",
     "output_type": "stream",
     "text": [
      "[3, 5, 4, 8, 10, 12]\n"
     ]
    }
   ],
   "source": [
    "def add_indexes(ip_list):\n",
    "    op_list = []\n",
    "    for i in range(0,len(ip_list)):\n",
    "        op_list.append(ip_list[i]+i)\n",
    "    print(op_list)\n",
    "ip_list = [3,4,2,5,6,7]\n",
    "add_indexes(ip_list)"
   ]
  },
  {
   "cell_type": "code",
   "execution_count": null,
   "id": "1ea69a91",
   "metadata": {},
   "outputs": [],
   "source": [
    "\"\"\"\n",
    "Question3\n",
    "Create a function that takes the height and radius of a cone as arguments and returns the volume of the cone rounded to the nearest hundredth. See the resources tab for the formula.\n",
    " \n",
    "Examples\n",
    "cone_volume(3, 2) ➞ 12.57\n",
    "\n",
    "cone_volume(15, 6) ➞ 565.49\n",
    "\n",
    "cone_volume(18, 0) ➞ 0\n",
    "\n",
    "\"\"\""
   ]
  },
  {
   "cell_type": "code",
   "execution_count": 12,
   "id": "3425cb8d",
   "metadata": {},
   "outputs": [
    {
     "name": "stdout",
     "output_type": "stream",
     "text": [
      "Enter the height: 3\n",
      "Enter the radius: 2\n",
      "Volume of cone rounded to the nearest hundredth is:  12.57\n"
     ]
    }
   ],
   "source": [
    "import math\n",
    "\n",
    "def cone_volume(height,radius):\n",
    "    vol_cone = ((math.pi)*pow(radius,2))*(height/3)\n",
    "    return vol_cone\n",
    "    \n",
    "height = int(input(\"Enter the height: \"))\n",
    "radius = int(input(\"Enter the radius: \"))\n",
    "vol_of_cone = cone_volume(height, radius)\n",
    "print(\"Volume of cone rounded to the nearest hundredth is: \", round(vol_of_cone,2))"
   ]
  },
  {
   "cell_type": "code",
   "execution_count": 13,
   "id": "e2e70ae5",
   "metadata": {},
   "outputs": [
    {
     "data": {
      "text/plain": [
       "'\\nQuestion4\\nThis Triangular Number Sequence is generated from a pattern of dots that form a triangle. The first 5 numbers of the sequence, or dots, are: \\n1, 3, 6, 10, 15\\nThis means that the first triangle has just one dot, the second one has three dots, the third one has 6 dots and so on.\\nWrite a function that gives the number of dots with its corresponding triangle number of the sequence.\\nExamples\\ntriangle(1) ➞ 1\\n\\ntriangle(6) ➞ 21\\n\\ntriangle(215) ➞ 23220\\n\\n\\n'"
      ]
     },
     "execution_count": 13,
     "metadata": {},
     "output_type": "execute_result"
    }
   ],
   "source": [
    "\"\"\"\n",
    "Question4\n",
    "This Triangular Number Sequence is generated from a pattern of dots that form a triangle. The first 5 numbers of the sequence, or dots, are: \n",
    "1, 3, 6, 10, 15\n",
    "This means that the first triangle has just one dot, the second one has three dots, the third one has 6 dots and so on.\n",
    "Write a function that gives the number of dots with its corresponding triangle number of the sequence.\n",
    "Examples\n",
    "triangle(1) ➞ 1\n",
    "\n",
    "triangle(6) ➞ 21\n",
    "\n",
    "triangle(215) ➞ 23220\n",
    "\n",
    "\n",
    "\"\"\""
   ]
  },
  {
   "cell_type": "code",
   "execution_count": 17,
   "id": "de2831d1",
   "metadata": {},
   "outputs": [
    {
     "name": "stdout",
     "output_type": "stream",
     "text": [
      "Output ➞ 1\n",
      "Output ➞ 21\n",
      "Output ➞ 23220\n"
     ]
    }
   ],
   "source": [
    "def triangle(in_num):\n",
    "    print(f'Output ➞ {int((in_num)*((in_num+1)/2))}')\n",
    "\n",
    "triangle(1)\n",
    "triangle(6)\n",
    "triangle(215)"
   ]
  },
  {
   "cell_type": "code",
   "execution_count": null,
   "id": "d17afe62",
   "metadata": {},
   "outputs": [],
   "source": [
    "\"\"\"\n",
    "Question5\n",
    "Create a function that takes a list of numbers between 1 and 10 (excluding one number) and returns the missing number.\n",
    "Examples\n",
    "missing_num([1, 2, 3, 4, 6, 7, 8, 9, 10]) ➞ 5\n",
    "\n",
    "missing_num([7, 2, 3, 6, 5, 9, 1, 4, 8]) ➞ 10\n",
    "\n",
    "missing_num([10, 5, 1, 2, 4, 6, 8, 3, 9]) ➞ 7\n",
    "\"\"\""
   ]
  },
  {
   "cell_type": "code",
   "execution_count": 16,
   "id": "e0bfc071",
   "metadata": {},
   "outputs": [
    {
     "name": "stdout",
     "output_type": "stream",
     "text": [
      "Missing number is:  8\n"
     ]
    }
   ],
   "source": [
    "def missing_num(ip_list):\n",
    "    for i in range(1,11):\n",
    "        if i not in ip_list:\n",
    "            return i\n",
    "    \n",
    "ip_list = [1,2,3,4,5,6,7,10,9]\n",
    "output = missing_num(ip_list)\n",
    "print(\"Missing number is: \", output)"
   ]
  },
  {
   "cell_type": "code",
   "execution_count": null,
   "id": "facad621",
   "metadata": {},
   "outputs": [],
   "source": []
  }
 ],
 "metadata": {
  "kernelspec": {
   "display_name": "Python 3 (ipykernel)",
   "language": "python",
   "name": "python3"
  },
  "language_info": {
   "codemirror_mode": {
    "name": "ipython",
    "version": 3
   },
   "file_extension": ".py",
   "mimetype": "text/x-python",
   "name": "python",
   "nbconvert_exporter": "python",
   "pygments_lexer": "ipython3",
   "version": "3.9.12"
  }
 },
 "nbformat": 4,
 "nbformat_minor": 5
}
