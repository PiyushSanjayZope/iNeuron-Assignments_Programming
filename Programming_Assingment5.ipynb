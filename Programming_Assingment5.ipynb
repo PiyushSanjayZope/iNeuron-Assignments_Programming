{
 "cells": [
  {
   "cell_type": "code",
   "execution_count": 1,
   "id": "b8e858f0",
   "metadata": {},
   "outputs": [
    {
     "name": "stdout",
     "output_type": "stream",
     "text": [
      "Enter the x_term: 3\n",
      "Enter the y_term: 4\n",
      "The LCM of 3,4 is 12\n"
     ]
    }
   ],
   "source": [
    "\"\"\"\n",
    "1.\tWrite a Python Program to Find LCM?\n",
    "\n",
    "\"\"\"\n",
    "def findTheLcm(x_term,y_term):\n",
    "    if x_term > y_term:\n",
    "        greater = x_term\n",
    "    else:\n",
    "        greater = x_term\n",
    "    while True:\n",
    "        if((greater%x_term == 0) and (greater%y_term == 0)):\n",
    "            lcm = greater\n",
    "            break\n",
    "        else:\n",
    "            greater +=1\n",
    "    print(f'The LCM of {x_term},{y_term} is {lcm}')\n",
    "\n",
    "x_term = int(input(\"Enter the x_term: \"))\n",
    "y_term = int(input(\"Enter the y_term: \"))\n",
    "findTheLcm(x_term,y_term)"
   ]
  },
  {
   "cell_type": "code",
   "execution_count": 3,
   "id": "726635f2",
   "metadata": {},
   "outputs": [
    {
     "name": "stdout",
     "output_type": "stream",
     "text": [
      "Enter the x_term: 4\n",
      "Enter the y_term: 7\n",
      "The HCF of 4,7 is 1\n"
     ]
    }
   ],
   "source": [
    "\"\"\"\n",
    "2.\tWrite a Python Program to Find HCF?\n",
    "\n",
    "\"\"\"\n",
    "def findTheHcf(x_term,y_term):\n",
    "    if x_term>y_term:\n",
    "        smaller = y_term\n",
    "    else:\n",
    "        smaller = x_term\n",
    "    for ele in range(1,smaller+1):\n",
    "        if((x_term%ele == 0) and (y_term%ele == 0)):\n",
    "            hcf = ele\n",
    "    print(f'The HCF of {x_term},{y_term} is {hcf}')\n",
    "\n",
    "x_term = int(input(\"Enter the x_term: \"))\n",
    "y_term = int(input(\"Enter the y_term: \"))\n",
    "findTheHcf(x_term,y_term)"
   ]
  },
  {
   "cell_type": "code",
   "execution_count": 4,
   "id": "08f956cf",
   "metadata": {},
   "outputs": [
    {
     "name": "stdout",
     "output_type": "stream",
     "text": [
      "Enter a Number: 4\n",
      "Binary Number -> 0b100\n",
      "Octal Number -> 0o4\n",
      "Hexadecimal Number -> 0x4\n"
     ]
    }
   ],
   "source": [
    "\"\"\"\n",
    "3.\tWrite a Python Program to Convert Decimal to Binary, Octal and Hexadecimal?\n",
    "\n",
    "\"\"\"\n",
    "def DecimalToOther():\n",
    "    num = int(input('Enter a Number: '))\n",
    "    print(f'Binary Number -> {bin(num)}')\n",
    "    print(f'Octal Number -> {oct(num)}')    \n",
    "    print(f'Hexadecimal Number -> {hex(num)}')    \n",
    "\n",
    "DecimalToOther()"
   ]
  },
  {
   "cell_type": "code",
   "execution_count": 5,
   "id": "d3fc61b4",
   "metadata": {},
   "outputs": [
    {
     "name": "stdout",
     "output_type": "stream",
     "text": [
      "Enter a Character: 2\n",
      "Ascii Character of 2 is 50\n"
     ]
    }
   ],
   "source": [
    "\"\"\"\n",
    "4.\tWrite a Python Program To Find ASCII value of a character?\n",
    "\n",
    "\"\"\"\n",
    "def charToAscii():\n",
    "    char = input('Enter a Character: ')\n",
    "    if len(char) > 1:\n",
    "        print('Please Enter a Single Character')\n",
    "    else:\n",
    "        print(f'Ascii Character of {char} is {ord(char)}')\n",
    "\n",
    "charToAscii()"
   ]
  },
  {
   "cell_type": "code",
   "execution_count": 6,
   "id": "7acbce88",
   "metadata": {},
   "outputs": [
    {
     "name": "stdout",
     "output_type": "stream",
     "text": [
      "Select a Arithmetic Operation:         \n",
      "1.Addition(+)        \n",
      "2.Division(-)        \n",
      "2.Multiplication(*)        \n",
      "4.Division(/)        \n",
      "3.Stop(0)\n",
      "\n",
      "Enter a arithmetic operation -> 0\n",
      "Program Stopped successfully\n"
     ]
    }
   ],
   "source": [
    "\"\"\"\n",
    "5.\tWrite a Python Program to Make a Simple Calculator with 4 basic mathematical operations?\n",
    "\"\"\"\n",
    "import operator\n",
    "\n",
    "ops = { \"+\": operator.add, \"-\": operator.sub, \"*\":operator.mul, \"/\":operator.truediv } \n",
    "\n",
    "print('Select a Arithmetic Operation: \\\n",
    "        \\n1.Addition(+)\\\n",
    "        \\n2.Division(-)\\\n",
    "        \\n2.Multiplication(*)\\\n",
    "        \\n4.Division(/)\\\n",
    "        \\n3.Stop(0)\\n')\n",
    "   \n",
    "\n",
    "while True:\n",
    "    operator = input('Enter a arithmetic operation -> ')\n",
    "    if operator == '0':\n",
    "        print(\"Program Stopped successfully\")\n",
    "        break\n",
    "    elif operator not in ['+','-','*','/']:\n",
    "        print(\"Please enter a valid operator\")\n",
    "    else:\n",
    "        num_1 = int(input('\\nEnter 1st Number: '))\n",
    "        num_2 = int(input('Enter 2nd Number: '))\n",
    "        print(f'{num_1}{operator}{num_2}={ops[operator](num_1,num_2)}\\n')"
   ]
  },
  {
   "cell_type": "code",
   "execution_count": null,
   "id": "3ebe9318",
   "metadata": {},
   "outputs": [],
   "source": []
  }
 ],
 "metadata": {
  "kernelspec": {
   "display_name": "Python 3 (ipykernel)",
   "language": "python",
   "name": "python3"
  },
  "language_info": {
   "codemirror_mode": {
    "name": "ipython",
    "version": 3
   },
   "file_extension": ".py",
   "mimetype": "text/x-python",
   "name": "python",
   "nbconvert_exporter": "python",
   "pygments_lexer": "ipython3",
   "version": "3.9.12"
  }
 },
 "nbformat": 4,
 "nbformat_minor": 5
}
