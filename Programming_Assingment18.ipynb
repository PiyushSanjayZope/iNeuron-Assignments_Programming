{
 "cells": [
  {
   "cell_type": "code",
   "execution_count": null,
   "id": "39dc4392",
   "metadata": {},
   "outputs": [],
   "source": [
    "\"\"\"\n",
    "Question 1\n",
    "Create a function that takes a list of non-negative integers and strings and return a new list without the strings.\n",
    "Examples\n",
    "filter_list([1, 2, \"a\", \"b\"]) ➞ [1, 2]\n",
    "\n",
    "filter_list([1, \"a\", \"b\", 0, 15]) ➞ [1, 0, 15]\n",
    "\n",
    "filter_list([1, 2, \"aasf\", \"1\", \"123\", 123]) ➞ [1, 2, 123]\n",
    "\n",
    "\"\"\""
   ]
  },
  {
   "cell_type": "code",
   "execution_count": 17,
   "id": "034fd15e",
   "metadata": {},
   "outputs": [
    {
     "name": "stdout",
     "output_type": "stream",
     "text": [
      "[2, 3, 4, 'q']\n"
     ]
    }
   ],
   "source": [
    "def filter_list(input_list):\n",
    "    output_list = []\n",
    "    \n",
    "    for i in range(0,len(input_list)):\n",
    "        if type(input_list[i]) == int:\n",
    "            if input_list[i] >= 0:\n",
    "                output_list.append(input_list[i])\n",
    "        elif type(input_list[i]) == str:\n",
    "            output_list.append(input_list[i])\n",
    "    \n",
    "    print(output_list)\n",
    "\n",
    "input_list = [2,3,4,-4,'q']\n",
    "filter_list(input_list)"
   ]
  },
  {
   "cell_type": "code",
   "execution_count": null,
   "id": "9f9d1c37",
   "metadata": {},
   "outputs": [],
   "source": [
    "\"\"\"\n",
    "Question 2\n",
    "The \"Reverser\" takes a string as input and returns that string in reverse order, with the opposite case.\n",
    "Examples\n",
    "reverse(\"Hello World\") ➞ \"DLROw OLLEh\"\n",
    "\n",
    "reverse(\"ReVeRsE\") ➞ \"eSrEvEr\"\n",
    "\n",
    "reverse(\"Radar\") ➞ \"RADAr\"\n",
    "\n",
    "\"\"\""
   ]
  },
  {
   "cell_type": "code",
   "execution_count": 23,
   "id": "ea0b0dbd",
   "metadata": {},
   "outputs": [
    {
     "name": "stdout",
     "output_type": "stream",
     "text": [
      "Enter the input string: piyush\n",
      "HSUYIP\n"
     ]
    }
   ],
   "source": [
    "def reverse(ip_str):\n",
    "    op_str = ip_str.swapcase()\n",
    "    op_str = op_str[::-1]\n",
    "    print(op_str)\n",
    "\n",
    "ip_str = input(\"Enter the input string: \")\n",
    "reverse(ip_str)"
   ]
  },
  {
   "cell_type": "code",
   "execution_count": null,
   "id": "4bda6b45",
   "metadata": {},
   "outputs": [],
   "source": [
    "\"\"\"\n",
    "Question 3\n",
    "You can assign variables from lists like this:\n",
    "lst = [1, 2, 3, 4, 5, 6]\n",
    "first = lst[0]\n",
    "middle = lst[1:-1]\n",
    "last = lst[-1]\n",
    "\n",
    "print(first) ➞ outputs 1\n",
    "print(middle) ➞ outputs [2, 3, 4, 5]\n",
    "print(last) ➞ outputs 6\n",
    "With Python 3, you can assign variables from lists in a much more succinct way. Create variables first, middle and last from the given list using destructuring assignment (check the Resources tab for some examples), where:\n",
    "first  ➞ 1\n",
    "\n",
    "middle ➞ [2, 3, 4, 5]\n",
    "\n",
    "last ➞ 6\n",
    "Your task is to unpack the list writeyourcodehere into three variables, being first, middle, and last, with middle being everything in between the first and last element. Then print all three variables.\n",
    "\n",
    "\"\"\""
   ]
  },
  {
   "cell_type": "code",
   "execution_count": 37,
   "id": "a0aa6124",
   "metadata": {},
   "outputs": [
    {
     "name": "stdout",
     "output_type": "stream",
     "text": [
      "first ➞ 1\n",
      "middle ➞ [2, 3, 4, 5]\n",
      "last ➞ 6\n"
     ]
    }
   ],
   "source": [
    "first, *middle, last = [1,2,3,4,5,6]\n",
    "print(f'first ➞ {first}')\n",
    "print(f'middle ➞ {middle}')\n",
    "print(f'last ➞ {last}')"
   ]
  },
  {
   "cell_type": "code",
   "execution_count": null,
   "id": "051cf1e2",
   "metadata": {},
   "outputs": [],
   "source": [
    "\"\"\"\n",
    "Question 4\n",
    "Write a function that calculates the factorial of a number recursively.\n",
    "Examples\n",
    "factorial(5) ➞ 120\n",
    "\n",
    "factorial(3) ➞ 6\n",
    "\n",
    "factorial(1) ➞ 1\n",
    "\n",
    "factorial(0) ➞ 1\n",
    "\n",
    "\"\"\""
   ]
  },
  {
   "cell_type": "code",
   "execution_count": 36,
   "id": "496c9529",
   "metadata": {},
   "outputs": [
    {
     "name": "stdout",
     "output_type": "stream",
     "text": [
      "Enter a number: 4\n",
      "Factorial of number is:  24\n"
     ]
    }
   ],
   "source": [
    "def fact_rec(num):\n",
    "    if num == 1:\n",
    "        return num\n",
    "    else:\n",
    "        return num*fact_rec(num-1)\n",
    "num = int(input(\"Enter a number: \"))\n",
    "if num < 0:\n",
    "    print(\"Invalid input, Factorial of negative number does not exist\")\n",
    "elif num == 0:\n",
    "    print(\"Factorial of 0 is 1\")\n",
    "else:\n",
    "    print(\"Factorial of number is: \",fact_rec(num))"
   ]
  },
  {
   "cell_type": "code",
   "execution_count": null,
   "id": "e751407d",
   "metadata": {},
   "outputs": [],
   "source": [
    "\"\"\"\n",
    "Question 5\n",
    "Write a function that moves all elements of one type to the end of the list.\n",
    "Examples\n",
    "move_to_end([1, 3, 2, 4, 4, 1], 1) ➞ [3, 2, 4, 4, 1, 1]\n",
    "# Move all the 1s to the end of the array.\n",
    "\n",
    "move_to_end([7, 8, 9, 1, 2, 3, 4], 9) ➞ [7, 8, 1, 2, 3, 4, 9]\n",
    "\n",
    "move_to_end([\"a\", \"a\", \"a\", \"b\"], \"a\") ➞ [\"b\", \"a\", \"a\", \"a\"]\n",
    "\n",
    "\"\"\""
   ]
  },
  {
   "cell_type": "code",
   "execution_count": 35,
   "id": "a1ee0f2b",
   "metadata": {},
   "outputs": [
    {
     "name": "stdout",
     "output_type": "stream",
     "text": [
      "Input list is:  [2, 3, 6, 9, 1, 3, 2, 4, 2, 3]\n",
      "Enter an element from above list: 2\n",
      "Output list is:  [3, 6, 9, 1, 3, 4, 3, 2, 2, 2]\n"
     ]
    }
   ],
   "source": [
    "def move_to_end(ip_list,element):\n",
    "    op_list = ip_list\n",
    "    for i in range(0, len(ip_list)):\n",
    "        if ip_list[i] == element:\n",
    "            op_list.pop(i)\n",
    "            op_list.append(element)\n",
    "    print(\"Output list is: \",op_list)\n",
    "ip_list = [2,3,6,9,1,3,2,4,2,3]\n",
    "print(\"Input list is: \",ip_list)\n",
    "element = int(input(\"Enter an element from above list: \"))\n",
    "move_to_end(ip_list,element)"
   ]
  },
  {
   "cell_type": "code",
   "execution_count": null,
   "id": "0e543a37",
   "metadata": {},
   "outputs": [],
   "source": []
  }
 ],
 "metadata": {
  "kernelspec": {
   "display_name": "Python 3 (ipykernel)",
   "language": "python",
   "name": "python3"
  },
  "language_info": {
   "codemirror_mode": {
    "name": "ipython",
    "version": 3
   },
   "file_extension": ".py",
   "mimetype": "text/x-python",
   "name": "python",
   "nbconvert_exporter": "python",
   "pygments_lexer": "ipython3",
   "version": "3.9.12"
  }
 },
 "nbformat": 4,
 "nbformat_minor": 5
}
