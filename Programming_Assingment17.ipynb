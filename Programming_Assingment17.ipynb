{
 "cells": [
  {
   "cell_type": "code",
   "execution_count": 1,
   "id": "95294119",
   "metadata": {},
   "outputs": [
    {
     "data": {
      "text/plain": [
       "'\\nQuestion1. Create a function that takes three arguments a, b, c and returns the sum of the numbers that are evenly divided by c from the range a, b inclusive.\\nExamples\\nevenly_divisible(1, 10, 20) ➞ 0\\n# No number between 1 and 10 can be evenly divided by 20.\\n\\nevenly_divisible(1, 10, 2) ➞ 30\\n# 2 + 4 + 6 + 8 + 10 = 30\\n\\nevenly_divisible(1, 10, 3) ➞ 18\\n# 3 + 6 + 9 = 18\\n\\n\\n'"
      ]
     },
     "execution_count": 1,
     "metadata": {},
     "output_type": "execute_result"
    }
   ],
   "source": [
    "\"\"\"\n",
    "Question1. Create a function that takes three arguments a, b, c and returns the sum of the numbers that are evenly divided by c from the range a, b inclusive.\n",
    "Examples\n",
    "evenly_divisible(1, 10, 20) ➞ 0\n",
    "# No number between 1 and 10 can be evenly divided by 20.\n",
    "\n",
    "evenly_divisible(1, 10, 2) ➞ 30\n",
    "# 2 + 4 + 6 + 8 + 10 = 30\n",
    "\n",
    "evenly_divisible(1, 10, 3) ➞ 18\n",
    "# 3 + 6 + 9 = 18\n",
    "\n",
    "\n",
    "\"\"\""
   ]
  },
  {
   "cell_type": "code",
   "execution_count": 2,
   "id": "f5d173b7",
   "metadata": {},
   "outputs": [
    {
     "name": "stdout",
     "output_type": "stream",
     "text": [
      "Enter number1: 1\n",
      "Enter number2: 2\n",
      "Enter number3: 3\n",
      "No number between 1 and 2 can be evenly divided by 3\n"
     ]
    }
   ],
   "source": [
    "def even_div_sum(num1,num2,num3):\n",
    "    sum = 0\n",
    "    for i in range(num1,num2+1):\n",
    "        if i%num3 == 0:\n",
    "            sum += i\n",
    "    if sum == 0:\n",
    "        return (\"No number between \" + str(num1) +\" and \" + str(num2) +\" can be evenly divided by \" + str(num3))\n",
    "    else:\n",
    "        return sum\n",
    "    \n",
    "num1 = int(input(\"Enter number1: \"))\n",
    "num2 = int(input(\"Enter number2: \"))\n",
    "num3 = int(input(\"Enter number3: \"))\n",
    "print(even_div_sum(num1,num2,num3))"
   ]
  },
  {
   "cell_type": "code",
   "execution_count": 3,
   "id": "1d2a73e4",
   "metadata": {},
   "outputs": [
    {
     "data": {
      "text/plain": [
       "'\\nQuestion2. Create a function that returns True if a given inequality expression is correct and False otherwise.\\nExamples\\ncorrect_signs(\"3 < 7 < 11\") ➞ True\\n\\ncorrect_signs(\"13 > 44 > 33 > 1\") ➞ False\\n\\ncorrect_signs(\"1 < 2 < 6 < 9 > 3\") ➞ True\\n\\n\\n'"
      ]
     },
     "execution_count": 3,
     "metadata": {},
     "output_type": "execute_result"
    }
   ],
   "source": [
    "\"\"\"\n",
    "Question2. Create a function that returns True if a given inequality expression is correct and False otherwise.\n",
    "Examples\n",
    "correct_signs(\"3 < 7 < 11\") ➞ True\n",
    "\n",
    "correct_signs(\"13 > 44 > 33 > 1\") ➞ False\n",
    "\n",
    "correct_signs(\"1 < 2 < 6 < 9 > 3\") ➞ True\n",
    "\n",
    "\n",
    "\"\"\""
   ]
  },
  {
   "cell_type": "code",
   "execution_count": 4,
   "id": "901312c2",
   "metadata": {},
   "outputs": [
    {
     "name": "stdout",
     "output_type": "stream",
     "text": [
      "Enter the inequality expression: 3 < 4 < 5\n"
     ]
    },
    {
     "data": {
      "text/plain": [
       "True"
      ]
     },
     "execution_count": 4,
     "metadata": {},
     "output_type": "execute_result"
    }
   ],
   "source": [
    "def correct_signs(input_exp):\n",
    "    return eval(input_exp)\n",
    "\n",
    "input_exp = input(\"Enter the inequality expression: \")\n",
    "correct_signs(input_exp)"
   ]
  },
  {
   "cell_type": "code",
   "execution_count": 5,
   "id": "e3cbcf6f",
   "metadata": {},
   "outputs": [
    {
     "data": {
      "text/plain": [
       "'\\nQuestion3. Create a function that replaces all the vowels in a string with a specified character.\\nExamples\\nreplace_vowels(\"the aardvark\", \"#\") ➞ \"th# ##rdv#rk\"\\n\\nreplace_vowels(\"minnie mouse\", \"?\") ➞ \"m?nn?? m??s?\"\\n\\nreplace_vowels(\"shakespeare\", \"*\") ➞ \"sh*k*sp**r*\"\\n\\n\\n'"
      ]
     },
     "execution_count": 5,
     "metadata": {},
     "output_type": "execute_result"
    }
   ],
   "source": [
    "\"\"\"\n",
    "Question3. Create a function that replaces all the vowels in a string with a specified character.\n",
    "Examples\n",
    "replace_vowels(\"the aardvark\", \"#\") ➞ \"th# ##rdv#rk\"\n",
    "\n",
    "replace_vowels(\"minnie mouse\", \"?\") ➞ \"m?nn?? m??s?\"\n",
    "\n",
    "replace_vowels(\"shakespeare\", \"*\") ➞ \"sh*k*sp**r*\"\n",
    "\n",
    "\n",
    "\"\"\""
   ]
  },
  {
   "cell_type": "code",
   "execution_count": 6,
   "id": "31140d91",
   "metadata": {},
   "outputs": [
    {
     "name": "stdout",
     "output_type": "stream",
     "text": [
      "Enter the string: piyush\n",
      "Enter the character: p\n"
     ]
    },
    {
     "data": {
      "text/plain": [
       "'ppypsh'"
      ]
     },
     "execution_count": 6,
     "metadata": {},
     "output_type": "execute_result"
    }
   ],
   "source": [
    "def replace_vow_char(input_string,character):\n",
    "    vowel_list = ['a','e','i','o','u']\n",
    "    for i in range(0,len(input_string)):\n",
    "        if input_string[i] in vowel_list:\n",
    "            input_string = input_string.replace(input_string[i], character)\n",
    "    return input_string\n",
    "    \n",
    "input_string = input(\"Enter the string: \")\n",
    "character = input(\"Enter the character: \")\n",
    "replace_vow_char(input_string,character)"
   ]
  },
  {
   "cell_type": "code",
   "execution_count": 7,
   "id": "ca65335d",
   "metadata": {},
   "outputs": [
    {
     "data": {
      "text/plain": [
       "'\\nQuestion4. Write a function that calculates the factorial of a number recursively.\\nExamples\\nfactorial(5) ➞ 120\\n\\nfactorial(3) ➞ 6\\n\\nfactorial(1) ➞ 1\\n\\nfactorial(0) ➞ 1\\n\\n\\n'"
      ]
     },
     "execution_count": 7,
     "metadata": {},
     "output_type": "execute_result"
    }
   ],
   "source": [
    "\"\"\"\n",
    "Question4. Write a function that calculates the factorial of a number recursively.\n",
    "Examples\n",
    "factorial(5) ➞ 120\n",
    "\n",
    "factorial(3) ➞ 6\n",
    "\n",
    "factorial(1) ➞ 1\n",
    "\n",
    "factorial(0) ➞ 1\n",
    "\n",
    "\n",
    "\"\"\""
   ]
  },
  {
   "cell_type": "code",
   "execution_count": 11,
   "id": "bfbf8a46",
   "metadata": {},
   "outputs": [
    {
     "name": "stdout",
     "output_type": "stream",
     "text": [
      "Enter a number: 4\n",
      "Factorial of number is:  24\n"
     ]
    }
   ],
   "source": [
    "def fact_rec(num):\n",
    "    if num == 1:\n",
    "        return num\n",
    "    else:\n",
    "        return num*fact_rec(num-1)\n",
    "num = int(input(\"Enter a number: \"))\n",
    "if num < 0:\n",
    "    print(\"Invalid input, Factorial of negative number does not exist\")\n",
    "elif num == 0:\n",
    "    print(\"Factorial of 0 is 1\")\n",
    "else:\n",
    "    print(\"Factorial of number is: \",fact_rec(num))"
   ]
  },
  {
   "cell_type": "code",
   "execution_count": 9,
   "id": "a1ab9667",
   "metadata": {},
   "outputs": [
    {
     "data": {
      "text/plain": [
       "'\\nQuestion 5\\nHamming distance is the number of characters that differ between two strings.\\nTo illustrate:\\nString1: \"abcbba\"\\nString2: \"abcbda\"\\n\\nHamming Distance: 1 - \"b\" vs. \"d\" is the only difference.\\nCreate a function that computes the hamming distance between two strings.\\nExamples\\nhamming_distance(\"abcde\", \"bcdef\") ➞ 5\\n\\nhamming_distance(\"abcde\", \"abcde\") ➞ 0\\n\\nhamming_distance(\"strong\", \"strung\") ➞ 1\\n\\n\\n\\n'"
      ]
     },
     "execution_count": 9,
     "metadata": {},
     "output_type": "execute_result"
    }
   ],
   "source": [
    "\"\"\"\n",
    "Question 5\n",
    "Hamming distance is the number of characters that differ between two strings.\n",
    "To illustrate:\n",
    "String1: \"abcbba\"\n",
    "String2: \"abcbda\"\n",
    "\n",
    "Hamming Distance: 1 - \"b\" vs. \"d\" is the only difference.\n",
    "Create a function that computes the hamming distance between two strings.\n",
    "Examples\n",
    "hamming_distance(\"abcde\", \"bcdef\") ➞ 5\n",
    "\n",
    "hamming_distance(\"abcde\", \"abcde\") ➞ 0\n",
    "\n",
    "hamming_distance(\"strong\", \"strung\") ➞ 1\n",
    "\n",
    "\n",
    "\n",
    "\"\"\""
   ]
  },
  {
   "cell_type": "code",
   "execution_count": 5,
   "id": "69627925",
   "metadata": {},
   "outputs": [
    {
     "name": "stdout",
     "output_type": "stream",
     "text": [
      "Enter the string 1: piyush\n",
      "Enter the string 2: parth\n",
      "String lengths are not matched\n"
     ]
    }
   ],
   "source": [
    "from scipy.spatial.distance import hamming\n",
    "\n",
    "string1 = input(\"Enter the string 1: \")\n",
    "string2 = input(\"Enter the string 2: \")\n",
    "\n",
    "if len(string1) != len(string2):\n",
    "    print(\"String lengths are not matched\")\n",
    "else:\n",
    "    hamming_distance = hamming(list(string1), list(string2)) * len(string1)\n",
    "    print(hamming_distance)"
   ]
  },
  {
   "cell_type": "code",
   "execution_count": null,
   "id": "c505f0c4",
   "metadata": {},
   "outputs": [],
   "source": []
  }
 ],
 "metadata": {
  "kernelspec": {
   "display_name": "Python 3 (ipykernel)",
   "language": "python",
   "name": "python3"
  },
  "language_info": {
   "codemirror_mode": {
    "name": "ipython",
    "version": 3
   },
   "file_extension": ".py",
   "mimetype": "text/x-python",
   "name": "python",
   "nbconvert_exporter": "python",
   "pygments_lexer": "ipython3",
   "version": "3.9.12"
  }
 },
 "nbformat": 4,
 "nbformat_minor": 5
}
