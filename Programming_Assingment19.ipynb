{
 "cells": [
  {
   "cell_type": "code",
   "execution_count": null,
   "id": "3b178888",
   "metadata": {},
   "outputs": [],
   "source": [
    "\"\"\"\n",
    "Question1\n",
    "Create a function that takes a string and returns a string in which each character is repeated once.\n",
    "Examples\n",
    "double_char(\"String\") ➞ \"SSttrriinngg\"\n",
    "\n",
    "double_char(\"Hello World!\") ➞ \"HHeelllloo  WWoorrlldd!!\"\n",
    "\n",
    "double_char(\"1234!_ \") ➞ \"11223344!!__  \"\n",
    "\n",
    "\n",
    "\"\"\""
   ]
  },
  {
   "cell_type": "code",
   "execution_count": 5,
   "id": "4be0c1fd",
   "metadata": {},
   "outputs": [
    {
     "name": "stdout",
     "output_type": "stream",
     "text": [
      "Enter the input string: piysuh\n",
      "ppiiyyssuuhh\n"
     ]
    }
   ],
   "source": [
    "def double_char(ip_str):\n",
    "    op_str = \"\"\n",
    "    for i in range(0,len(ip_str)):\n",
    "        op_str = op_str + ip_str[i]*2\n",
    "    print(op_str)\n",
    "\n",
    "ip_str = input(\"Enter the input string: \")\n",
    "double_char(ip_str)"
   ]
  },
  {
   "cell_type": "code",
   "execution_count": null,
   "id": "8ab245ec",
   "metadata": {},
   "outputs": [],
   "source": [
    "\"\"\"\n",
    "Question2\n",
    "Create a function that reverses a boolean value and returns the string \"boolean expected\" if another variable type is given.\n",
    "Examples\n",
    "reverse(True) ➞ False\n",
    "\n",
    "reverse(False) ➞ True\n",
    "\n",
    "reverse(0) ➞ \"boolean expected\"\n",
    "\n",
    "reverse(None) ➞ \"boolean expected\"\n",
    "\n",
    "\n",
    "\"\"\""
   ]
  },
  {
   "cell_type": "code",
   "execution_count": 9,
   "id": "0073f5dd",
   "metadata": {},
   "outputs": [
    {
     "name": "stdout",
     "output_type": "stream",
     "text": [
      "Enter the input variable: a\n"
     ]
    },
    {
     "data": {
      "text/plain": [
       "'boolean expected'"
      ]
     },
     "execution_count": 9,
     "metadata": {},
     "output_type": "execute_result"
    }
   ],
   "source": [
    "def reverse(variable):\n",
    "    if variable == 'True':\n",
    "        return False\n",
    "    elif variable == 'False':\n",
    "        return True\n",
    "    else:\n",
    "        return \"boolean expected\"\n",
    "        \n",
    "    \n",
    "variable = input(\"Enter the input variable: \")\n",
    "reverse(variable)"
   ]
  },
  {
   "cell_type": "code",
   "execution_count": null,
   "id": "610bd995",
   "metadata": {},
   "outputs": [],
   "source": [
    "\"\"\"\n",
    "Question3\n",
    "Create a function that returns the thickness (in meters) of a piece of paper after folding it n number of times. The paper starts off with a thickness of 0.5mm.\n",
    "Examples\n",
    "num_layers(1) ➞ \"0.001m\"\n",
    "# Paper folded once is 1mm (equal to 0.001m)\n",
    "\n",
    "num_layers(4) ➞ \"0.008m\"\n",
    "# Paper folded 4 times is 8mm (equal to 0.008m)\n",
    "\n",
    "num_layers(21) ➞ \"1048.576m\"\n",
    "# Paper folded 21 times is 1048576mm (equal to 1048.576m)\n",
    "\n",
    "\n",
    "\n",
    "\"\"\""
   ]
  },
  {
   "cell_type": "code",
   "execution_count": 15,
   "id": "3b7e50ec",
   "metadata": {},
   "outputs": [
    {
     "name": "stdout",
     "output_type": "stream",
     "text": [
      "Enter number of folds: 4\n",
      "Paper folded 4 times is 0.008 m\n"
     ]
    }
   ],
   "source": [
    "def num_layers(folds):\n",
    "    thickness  = 0.5\n",
    "    for i in range(folds):\n",
    "        thickness = thickness * 2\n",
    "    return thickness/1000\n",
    "    \n",
    "folds = int(input(\"Enter number of folds: \"))\n",
    "output = num_layers(folds)\n",
    "print(\"Paper folded\", folds, \"times is\", output ,\"m\")"
   ]
  },
  {
   "cell_type": "code",
   "execution_count": null,
   "id": "9a613c22",
   "metadata": {},
   "outputs": [],
   "source": [
    "\"\"\"\n",
    "Question4\n",
    "Create a function that takes a single string as argument and returns an ordered list containing the indices of all capital letters in the string.\n",
    "Examples\n",
    "index_of_caps(\"eDaBiT\") ➞ [1, 3, 5]\n",
    "\n",
    "index_of_caps(\"eQuINoX\") ➞ [1, 3, 4, 6]\n",
    "\n",
    "index_of_caps(\"determine\") ➞ []\n",
    "\n",
    "index_of_caps(\"STRIKE\") ➞ [0, 1, 2, 3, 4, 5]\n",
    "\n",
    "index_of_caps(\"sUn\") ➞ [1]\n",
    "\n",
    "\n",
    "\"\"\""
   ]
  },
  {
   "cell_type": "code",
   "execution_count": 17,
   "id": "da55d8b1",
   "metadata": {},
   "outputs": [
    {
     "name": "stdout",
     "output_type": "stream",
     "text": [
      "Enter an input string: piYUSH\n",
      "['Y', 'U', 'S', 'H']\n"
     ]
    }
   ],
   "source": [
    "def index_of_caps(ip_string):\n",
    "    list_o = []\n",
    "    for i in range(0, len(ip_string)):\n",
    "        if ip_string[i].isupper():\n",
    "            list_o.append(ip_string[i])\n",
    "    print(list_o)\n",
    "    \n",
    "ip_string = input(\"Enter an input string: \")\n",
    "index_of_caps(ip_string)"
   ]
  },
  {
   "cell_type": "code",
   "execution_count": null,
   "id": "7969daec",
   "metadata": {},
   "outputs": [],
   "source": [
    "\"\"\"\n",
    "Question5\n",
    "Using list comprehensions, create a function that finds all even numbers from 1 to the given number.\n",
    "Examples\n",
    "find_even_nums(8) ➞ [2, 4, 6, 8]\n",
    "\n",
    "find_even_nums(4) ➞ [2, 4]\n",
    "\n",
    "find_even_nums(2) ➞ [2]\n",
    "\"\"\""
   ]
  },
  {
   "cell_type": "code",
   "execution_count": 19,
   "id": "a97052ba",
   "metadata": {},
   "outputs": [
    {
     "name": "stdout",
     "output_type": "stream",
     "text": [
      "Enter the number: 8\n",
      "[2, 4, 6, 8]\n"
     ]
    }
   ],
   "source": [
    "def find_even_nums(number):\n",
    "    even_list = []\n",
    "    for i in range(1,number+1):\n",
    "        if i%2 == 0:\n",
    "            even_list.append(i)\n",
    "    print(even_list)\n",
    "    \n",
    "number = int(input(\"Enter the number: \"))\n",
    "find_even_nums(number)"
   ]
  },
  {
   "cell_type": "code",
   "execution_count": null,
   "id": "e3fdd34d",
   "metadata": {},
   "outputs": [],
   "source": []
  }
 ],
 "metadata": {
  "kernelspec": {
   "display_name": "Python 3 (ipykernel)",
   "language": "python",
   "name": "python3"
  },
  "language_info": {
   "codemirror_mode": {
    "name": "ipython",
    "version": 3
   },
   "file_extension": ".py",
   "mimetype": "text/x-python",
   "name": "python",
   "nbconvert_exporter": "python",
   "pygments_lexer": "ipython3",
   "version": "3.9.12"
  }
 },
 "nbformat": 4,
 "nbformat_minor": 5
}
