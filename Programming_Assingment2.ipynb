{
 "cells": [
  {
   "cell_type": "code",
   "execution_count": 3,
   "id": "9cc73087",
   "metadata": {},
   "outputs": [
    {
     "name": "stdout",
     "output_type": "stream",
     "text": [
      "Enter no of kilometers : 3\n",
      "3.0 km is Equal to 1.863 miles\n"
     ]
    }
   ],
   "source": [
    "\"\"\"\n",
    "1.\tWrite a Python program to convert kilometers to miles?\n",
    "\n",
    "\"\"\"\n",
    "def kmToMiles():\n",
    "    kiloMeters = float(input(\"Enter no of kilometers : \"))\n",
    "    print(\"{} km is Equal to {} miles\".format(kiloMeters,kiloMeters*0.621))\n",
    "\n",
    "kmToMiles()"
   ]
  },
  {
   "cell_type": "code",
   "execution_count": 4,
   "id": "7b8a5570",
   "metadata": {},
   "outputs": [
    {
     "name": "stdout",
     "output_type": "stream",
     "text": [
      "Enter temperature in celsius : 4\n",
      "4° Celsius is Equal to 39.2° Farenheit\n"
     ]
    }
   ],
   "source": [
    "\"\"\"\n",
    "2.\tWrite a Python program to convert Celsius to Fahrenheit?\n",
    "\n",
    "\"\"\"\n",
    "def celToFarh():\n",
    "    celsius = int(input(\"Enter temperature in celsius : \"))\n",
    "    Farenheit = (celsius*(9/5))+32\n",
    "    print(\"{}° Celsius is Equal to {}° Farenheit\".format(celsius,Farenheit))\n",
    "    \n",
    "celToFarh()"
   ]
  },
  {
   "cell_type": "code",
   "execution_count": 5,
   "id": "e74a8524",
   "metadata": {},
   "outputs": [
    {
     "name": "stdout",
     "output_type": "stream",
     "text": [
      "Enter calender year: 3\n",
      "                                   3\n",
      "\n",
      "      January                   February                   March\n",
      "Mo Tu We Th Fr Sa Su      Mo Tu We Th Fr Sa Su      Mo Tu We Th Fr Sa Su\n",
      "       1  2  3  4  5                      1  2                      1  2\n",
      " 6  7  8  9 10 11 12       3  4  5  6  7  8  9       3  4  5  6  7  8  9\n",
      "13 14 15 16 17 18 19      10 11 12 13 14 15 16      10 11 12 13 14 15 16\n",
      "20 21 22 23 24 25 26      17 18 19 20 21 22 23      17 18 19 20 21 22 23\n",
      "27 28 29 30 31            24 25 26 27 28            24 25 26 27 28 29 30\n",
      "                                                    31\n",
      "\n",
      "       April                      May                       June\n",
      "Mo Tu We Th Fr Sa Su      Mo Tu We Th Fr Sa Su      Mo Tu We Th Fr Sa Su\n",
      "    1  2  3  4  5  6                1  2  3  4                         1\n",
      " 7  8  9 10 11 12 13       5  6  7  8  9 10 11       2  3  4  5  6  7  8\n",
      "14 15 16 17 18 19 20      12 13 14 15 16 17 18       9 10 11 12 13 14 15\n",
      "21 22 23 24 25 26 27      19 20 21 22 23 24 25      16 17 18 19 20 21 22\n",
      "28 29 30                  26 27 28 29 30 31         23 24 25 26 27 28 29\n",
      "                                                    30\n",
      "\n",
      "        July                     August                  September\n",
      "Mo Tu We Th Fr Sa Su      Mo Tu We Th Fr Sa Su      Mo Tu We Th Fr Sa Su\n",
      "    1  2  3  4  5  6                   1  2  3       1  2  3  4  5  6  7\n",
      " 7  8  9 10 11 12 13       4  5  6  7  8  9 10       8  9 10 11 12 13 14\n",
      "14 15 16 17 18 19 20      11 12 13 14 15 16 17      15 16 17 18 19 20 21\n",
      "21 22 23 24 25 26 27      18 19 20 21 22 23 24      22 23 24 25 26 27 28\n",
      "28 29 30 31               25 26 27 28 29 30 31      29 30\n",
      "\n",
      "      October                   November                  December\n",
      "Mo Tu We Th Fr Sa Su      Mo Tu We Th Fr Sa Su      Mo Tu We Th Fr Sa Su\n",
      "       1  2  3  4  5                      1  2       1  2  3  4  5  6  7\n",
      " 6  7  8  9 10 11 12       3  4  5  6  7  8  9       8  9 10 11 12 13 14\n",
      "13 14 15 16 17 18 19      10 11 12 13 14 15 16      15 16 17 18 19 20 21\n",
      "20 21 22 23 24 25 26      17 18 19 20 21 22 23      22 23 24 25 26 27 28\n",
      "27 28 29 30 31            24 25 26 27 28 29 30      29 30 31\n",
      "\n"
     ]
    }
   ],
   "source": [
    "\"\"\"\n",
    "3.\tWrite a Python program to display calendar?\n",
    "\n",
    "\"\"\"\n",
    "import calendar\n",
    "\n",
    "def showCalender():\n",
    "    year = int(input(\"Enter calender year: \"))\n",
    "    print(calendar.calendar(year))\n",
    "    \n",
    "showCalender()"
   ]
  },
  {
   "cell_type": "code",
   "execution_count": 6,
   "id": "8c1b60fb",
   "metadata": {},
   "outputs": [
    {
     "name": "stdout",
     "output_type": "stream",
     "text": [
      "Enter a value: 2\n",
      "Enter b value: 3\n",
      "Enter c value: 4\n",
      "Roots are Imaginary (-0.75-1.1989578808281798j) (-0.75+1.1989578808281798j)\n"
     ]
    }
   ],
   "source": [
    "\"\"\"\n",
    "4.\tWrite a Python program to solve quadratic equation?\n",
    "\n",
    "\"\"\"\n",
    "import cmath\n",
    "import math\n",
    "\n",
    "def quadarticEquationRoots(a,b,c):\n",
    "    \n",
    "    discriminant = b*b-4*a*c\n",
    "    \n",
    "    if discriminant == 0:\n",
    "        r1 = -b/2*a\n",
    "        r2 = -b/2*a\n",
    "        print(\"Roots are Real\",r1,r2)\n",
    "    elif discriminant > 0:\n",
    "        r1 = (-b-math.sqrt(discriminant))/(2 * a)\n",
    "        r2 = (-b+math.sqrt(discriminant))/(2 * a)\n",
    "        print(\"Roots are Real and different\",r1,r2)\n",
    "    else:\n",
    "        r1 = (-b-cmath.sqrt(discriminant))/(2 * a)\n",
    "        r2 = (-b+cmath.sqrt(discriminant))/(2 * a)\n",
    "        print(\"Roots are Imaginary\",r1,r2)\n",
    "\n",
    "\n",
    "a = int(input('Enter a value: '))\n",
    "b = int(input('Enter b value: '))\n",
    "c = int(input('Enter c value: '))\n",
    "\n",
    "quadarticEquationRoots(a,b,c)"
   ]
  },
  {
   "cell_type": "code",
   "execution_count": 7,
   "id": "4b175445",
   "metadata": {},
   "outputs": [
    {
     "name": "stdout",
     "output_type": "stream",
     "text": [
      "Enter first number: 4\n",
      "Enter second number: 5\n",
      "Before Swapping 4 5\n",
      "before Swapping 5 4\n"
     ]
    }
   ],
   "source": [
    "\"\"\"\n",
    "5.\tWrite a Python program to swap two variables without temp variable?\n",
    "\n",
    "\"\"\"\n",
    "num_1 = int(input('Enter first number: '))\n",
    "num_2 = int(input('Enter second number: '))\n",
    "\n",
    "\n",
    "def swapNumbers(num_1,num_2):\n",
    "        print('Before Swapping',num_1,num_2)\n",
    "        num_1 = num_1+num_2\n",
    "        num_2 = num_1-num_2\n",
    "        num_1 = num_1-num_2\n",
    "        print('before Swapping',num_1,num_2)\n",
    "\n",
    "swapNumbers(num_1,num_2)"
   ]
  },
  {
   "cell_type": "code",
   "execution_count": null,
   "id": "84d5ad30",
   "metadata": {},
   "outputs": [],
   "source": []
  }
 ],
 "metadata": {
  "kernelspec": {
   "display_name": "Python 3 (ipykernel)",
   "language": "python",
   "name": "python3"
  },
  "language_info": {
   "codemirror_mode": {
    "name": "ipython",
    "version": 3
   },
   "file_extension": ".py",
   "mimetype": "text/x-python",
   "name": "python",
   "nbconvert_exporter": "python",
   "pygments_lexer": "ipython3",
   "version": "3.9.12"
  }
 },
 "nbformat": 4,
 "nbformat_minor": 5
}
