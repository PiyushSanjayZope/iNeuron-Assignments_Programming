{
 "cells": [
  {
   "cell_type": "code",
   "execution_count": null,
   "id": "8fb5f9e3",
   "metadata": {},
   "outputs": [],
   "source": [
    "\"\"\"\n",
    "Question1\n",
    "Write a function that takes a list and a number as arguments. Add the number to the end of the list, then remove the first element of the list. The function should then return the updated list.\n",
    "Examples\n",
    "next_in_line([5, 6, 7, 8, 9], 1) ➞ [6, 7, 8, 9, 1]\n",
    "\n",
    "next_in_line([7, 6, 3, 23, 17], 10) ➞ [6, 3, 23, 17, 10]\n",
    "\n",
    "next_in_line([1, 10, 20, 42 ], 6) ➞ [10, 20, 42, 6]\n",
    "\n",
    "next_in_line([], 6) ➞ \"No list has been selected\"\n",
    "\n",
    "\n",
    "\"\"\""
   ]
  },
  {
   "cell_type": "code",
   "execution_count": 1,
   "id": "921800fd",
   "metadata": {},
   "outputs": [
    {
     "name": "stdout",
     "output_type": "stream",
     "text": [
      "Enter number of elements : 4\n",
      "1\n",
      "3\n",
      "4\n",
      "6\n",
      "Enter a number which you want to add to list: 2\n"
     ]
    },
    {
     "data": {
      "text/plain": [
       "[3, 4, 6, 2]"
      ]
     },
     "execution_count": 1,
     "metadata": {},
     "output_type": "execute_result"
    }
   ],
   "source": [
    "def next_in_line(lst, number):\n",
    "    lst.append(number)\n",
    "    lst.pop(0)\n",
    "    return lst\n",
    "\n",
    "lst = []\n",
    "n = int(input(\"Enter number of elements : \"))\n",
    "\n",
    "for i in range(0, n):\n",
    "    ele = int(input())\n",
    "    lst.append(ele) # adding the element\n",
    "\n",
    "number = int(input(\"Enter a number which you want to add to list: \"))\n",
    "next_in_line(lst, number)"
   ]
  },
  {
   "cell_type": "code",
   "execution_count": null,
   "id": "8b8859e0",
   "metadata": {},
   "outputs": [],
   "source": [
    "\"\"\"\n",
    "Question2\n",
    "Create the function that takes a list of dictionaries and returns the sum of people's budgets.\n",
    "Examples\n",
    "get_budgets([\n",
    "  { \"name\": \"John\", \"age\": 21, \"budget\": 23000 },\n",
    "  { \"name\": \"Steve\",  \"age\": 32, \"budget\": 40000 },\n",
    "  { \"name\": \"Martin\",  \"age\": 16, \"budget\": 2700 }\n",
    "]) ➞ 65700\n",
    "\n",
    "get_budgets([\n",
    "  { \"name\": \"John\",  \"age\": 21, \"budget\": 29000 },\n",
    "  { \"name\": \"Steve\",  \"age\": 32, \"budget\": 32000 },\n",
    "  { \"name\": \"Martin\",  \"age\": 16, \"budget\": 1600 }\n",
    "]) ➞ 62600\n",
    "\n",
    "\n",
    "\"\"\""
   ]
  },
  {
   "cell_type": "code",
   "execution_count": 10,
   "id": "5ddc7fe3",
   "metadata": {},
   "outputs": [
    {
     "data": {
      "text/plain": [
       "65700"
      ]
     },
     "execution_count": 10,
     "metadata": {},
     "output_type": "execute_result"
    }
   ],
   "source": [
    "def get_budgets(ip_list):\n",
    "    sum  = 0\n",
    "    for i in range(0, len(ip_list)):\n",
    "        sum += ip_list[i][\"budget\"]\n",
    "    return sum\n",
    "    \n",
    "ip_list = [\n",
    "  { \"name\": \"John\", \"age\": 21, \"budget\": 23000 },\n",
    "  { \"name\": \"Steve\",  \"age\": 32, \"budget\": 40000 },\n",
    "  { \"name\": \"Martin\",  \"age\": 16, \"budget\": 2700 }\n",
    "]\n",
    "\n",
    "get_budgets(ip_list)"
   ]
  },
  {
   "cell_type": "code",
   "execution_count": null,
   "id": "cdff62b2",
   "metadata": {},
   "outputs": [],
   "source": [
    "\"\"\"\n",
    "Question3\n",
    "Create a function that takes a string and returns a string with its letters in alphabetical order.\n",
    "Examples\n",
    "alphabet_soup(\"hello\") ➞ \"ehllo\"\n",
    "\n",
    "alphabet_soup(\"edabit\") ➞ \"abdeit\"\n",
    "\n",
    "alphabet_soup(\"hacker\") ➞ \"acehkr\"\n",
    "\n",
    "alphabet_soup(\"geek\") ➞ \"eegk\"\n",
    "\n",
    "alphabet_soup(\"javascript\") ➞ \"aacijprstv\"\n",
    "\n",
    "\n",
    "\"\"\""
   ]
  },
  {
   "cell_type": "code",
   "execution_count": 13,
   "id": "3be6fbfa",
   "metadata": {},
   "outputs": [
    {
     "name": "stdout",
     "output_type": "stream",
     "text": [
      "Enter the string which you want to arrange in alphabetical order: piyush\n"
     ]
    },
    {
     "data": {
      "text/plain": [
       "'hipsuy'"
      ]
     },
     "execution_count": 13,
     "metadata": {},
     "output_type": "execute_result"
    }
   ],
   "source": [
    "def alphabet_soup(ip_string):\n",
    "    s_list = []\n",
    "    s_list = sorted(ip_string)\n",
    "    s_string = \"\"\n",
    "    for i in range(0,len(s_list)):\n",
    "        s_string += s_list[i]\n",
    "    return s_string\n",
    "    \n",
    "ip_string = input(\"Enter the string which you want to arrange in alphabetical order: \")\n",
    "alphabet_soup(ip_string)"
   ]
  },
  {
   "cell_type": "code",
   "execution_count": null,
   "id": "80b9d7a7",
   "metadata": {},
   "outputs": [],
   "source": [
    "\"\"\"\n",
    "Question4\n",
    "Suppose that you invest $10,000 for 10 years at an interest rate of 6% compounded monthly. What will be the value of your investment at the end of the 10 year period?\n",
    "Create a function that accepts the principal p, the term in years t, the interest rate r, and the number of compounding periods per year n. The function returns the value at the end of term rounded to the nearest cent.\n",
    "For the example above:\n",
    "compound_interest(10000, 10, 0.06, 12) ➞ 18193.97\n",
    "Note that the interest rate is given as a decimal and n=12 because with monthly compounding there are 12 periods per year. Compounding can also be done annually, quarterly, weekly, or daily.\n",
    "Examples\n",
    "compound_interest(100, 1, 0.05, 1) ➞ 105.0\n",
    "\n",
    "compound_interest(3500, 15, 0.1, 4) ➞ 15399.26\n",
    "\n",
    "compound_interest(100000, 20, 0.15, 365) ➞ 2007316.26\n",
    "\n",
    "\n",
    "\"\"\""
   ]
  },
  {
   "cell_type": "code",
   "execution_count": 19,
   "id": "f658fb6b",
   "metadata": {},
   "outputs": [
    {
     "name": "stdout",
     "output_type": "stream",
     "text": [
      "Enter the principal amount: 100000\n",
      "Enter the term in years: 20\n",
      "Enter the rate of interest: 0.15\n",
      "Enter the compounding_period: 365\n"
     ]
    },
    {
     "data": {
      "text/plain": [
       "2007316.26"
      ]
     },
     "execution_count": 19,
     "metadata": {},
     "output_type": "execute_result"
    }
   ],
   "source": [
    "def compound_interest(principal, term, roi, compounding_period):\n",
    "    amount = principal*(1+(roi/compounding_period))**(compounding_period*term)\n",
    "    return round(amount,2)\n",
    "    \n",
    "principal = float(input(\"Enter the principal amount: \"))\n",
    "term = float(input(\"Enter the term in years: \"))\n",
    "roi = float(input(\"Enter the rate of interest: \"))\n",
    "compounding_period = float(input(\"Enter the compounding_period: \"))\n",
    "compound_interest(principal, term, roi, compounding_period)"
   ]
  },
  {
   "cell_type": "code",
   "execution_count": null,
   "id": "d14e9e27",
   "metadata": {},
   "outputs": [],
   "source": [
    "\"\"\"\n",
    "Question5\n",
    "Write a function that takes a list of elements and returns only the integers.\n",
    "Examples\n",
    "return_only_integer([9, 2, \"space\", \"car\", \"lion\", 16]) ➞ [9, 2, 16]\n",
    "\n",
    "return_only_integer([\"hello\", 81, \"basketball\", 123, \"fox\"]) ➞ [81, 123]\n",
    "\n",
    "return_only_integer([10, \"121\", 56, 20, \"car\", 3, \"lion\"]) ➞ [10, 56, 20, 3]\n",
    "\n",
    "return_only_integer([\"String\",  True,  3.3,  1]) ➞ [1]\n",
    "\n",
    "\"\"\""
   ]
  },
  {
   "cell_type": "code",
   "execution_count": 24,
   "id": "6ca38a14",
   "metadata": {},
   "outputs": [
    {
     "data": {
      "text/plain": [
       "[1, 4, 3, 5, 9]"
      ]
     },
     "execution_count": 24,
     "metadata": {},
     "output_type": "execute_result"
    }
   ],
   "source": [
    "def return_only_integer(ip_list):\n",
    "    int_list = []\n",
    "    for i in range(0, len(ip_list)):\n",
    "        if type(ip_list[i]) == int:\n",
    "            int_list.append(ip_list[i])\n",
    "    return int_list\n",
    "\n",
    "ip_list = [1,4,3,5,\"a\",\"r\",9,\"t\"]\n",
    "\n",
    "return_only_integer(ip_list)"
   ]
  },
  {
   "cell_type": "code",
   "execution_count": null,
   "id": "8c4f59b3",
   "metadata": {},
   "outputs": [],
   "source": []
  }
 ],
 "metadata": {
  "kernelspec": {
   "display_name": "Python 3 (ipykernel)",
   "language": "python",
   "name": "python3"
  },
  "language_info": {
   "codemirror_mode": {
    "name": "ipython",
    "version": 3
   },
   "file_extension": ".py",
   "mimetype": "text/x-python",
   "name": "python",
   "nbconvert_exporter": "python",
   "pygments_lexer": "ipython3",
   "version": "3.9.12"
  }
 },
 "nbformat": 4,
 "nbformat_minor": 5
}
