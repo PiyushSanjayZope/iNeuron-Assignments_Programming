{
 "cells": [
  {
   "cell_type": "code",
   "execution_count": 1,
   "id": "050ce7b2",
   "metadata": {},
   "outputs": [
    {
     "data": {
      "text/plain": [
       "'\\nQuestion1. Write a function that stutters a word as if someone is struggling to read it. The first two letters are repeated twice with an ellipsis ... and space after each, and then the word is pronounced with a question mark ?.\\nExamples\\nstutter(\"incredible\") ➞ \"in... in... incredible?\"\\n\\nstutter(\"enthusiastic\") ➞ \"en... en... enthusiastic?\"\\n\\nstutter(\"outstanding\") ➞ \"ou... ou... outstanding?\"\\n\\nHint :- Assume all input is in lower case and at least two characters long.\\n'"
      ]
     },
     "execution_count": 1,
     "metadata": {},
     "output_type": "execute_result"
    }
   ],
   "source": [
    "\"\"\"\n",
    "Question1. Write a function that stutters a word as if someone is struggling to read it. The first two letters are repeated twice with an ellipsis ... and space after each, and then the word is pronounced with a question mark ?.\n",
    "Examples\n",
    "stutter(\"incredible\") ➞ \"in... in... incredible?\"\n",
    "\n",
    "stutter(\"enthusiastic\") ➞ \"en... en... enthusiastic?\"\n",
    "\n",
    "stutter(\"outstanding\") ➞ \"ou... ou... outstanding?\"\n",
    "\n",
    "Hint :- Assume all input is in lower case and at least two characters long.\n",
    "\"\"\""
   ]
  },
  {
   "cell_type": "code",
   "execution_count": 7,
   "id": "6878a698",
   "metadata": {},
   "outputs": [
    {
     "name": "stdout",
     "output_type": "stream",
     "text": [
      "Enter word : Parth\n",
      "Pa... Pa... Parth?\n"
     ]
    }
   ],
   "source": [
    "def stutter_word(input_word):\n",
    "    return (2*(input_word[:2]+'... '))+input_word+'?'\n",
    "input_word = input('Enter word : ')\n",
    "print(stutter_word(input_word))"
   ]
  },
  {
   "cell_type": "code",
   "execution_count": null,
   "id": "8c23c6f0",
   "metadata": {},
   "outputs": [],
   "source": [
    "\"\"\"\n",
    "Question 2.Create a function that takes an angle in radians and returns the corresponding angle in degrees rounded to one decimal place.\n",
    "Examples\n",
    "radians_to_degrees(1) ➞ 57.3\n",
    "\n",
    "radians_to_degrees(20) ➞ 1145.9\n",
    "\n",
    "radians_to_degrees(50) ➞ 2864.8\n",
    "\"\"\""
   ]
  },
  {
   "cell_type": "code",
   "execution_count": 11,
   "id": "4e2cb939",
   "metadata": {},
   "outputs": [
    {
     "name": "stdout",
     "output_type": "stream",
     "text": [
      "Enter radian value: 1\n",
      "57.3\n"
     ]
    }
   ],
   "source": [
    "import math\n",
    "\n",
    "def rad_to_degree(rad_input):\n",
    "    degree = round(rad_input*(180/math.pi),1)\n",
    "    return degree\n",
    "rad_input = int(input(\"Enter radian value: \"))\n",
    "print(rad_to_degree(rad_input))"
   ]
  },
  {
   "cell_type": "code",
   "execution_count": null,
   "id": "5d3f5b77",
   "metadata": {},
   "outputs": [],
   "source": [
    "\"\"\"\n",
    "Question 3. In this challenge, establish if a given integer num is a Curzon number. If 1 plus 2 elevated to num is exactly divisible by 1 plus 2 multiplied by num, then num is a Curzon number.\n",
    "Given a non-negative integer num, implement a function that returns True if num is a Curzon number, or False otherwise.\n",
    "Examples\n",
    "is_curzon(5) ➞ True\n",
    "# 2 ** 5 + 1 = 33\n",
    "# 2 * 5 + 1 = 11\n",
    "# 33 is a multiple of 11\n",
    "\n",
    "is_curzon(10) ➞ False\n",
    "# 2 ** 10 + 1 = 1025\n",
    "# 2 * 10 + 1 = 21\n",
    "# 1025 is not a multiple of 21\n",
    "\n",
    "is_curzon(14) ➞ True\n",
    "# 2 ** 14 + 1 = 16385\n",
    "# 2 * 14 + 1 = 29\n",
    "# 16385 is a multiple of 29\n",
    "\"\"\""
   ]
  },
  {
   "cell_type": "code",
   "execution_count": 13,
   "id": "9f316876",
   "metadata": {},
   "outputs": [
    {
     "name": "stdout",
     "output_type": "stream",
     "text": [
      "Enter a number: 10\n",
      "False\n"
     ]
    }
   ],
   "source": [
    "def check_curzon(input_number):\n",
    "    if (2 ** input_number + 1)%(2 * input_number + 1) == 0:\n",
    "        return True\n",
    "    else:\n",
    "        return False\n",
    "\n",
    "input_number = int(input(\"Enter a number: \"))\n",
    "print(check_curzon(input_number))"
   ]
  },
  {
   "cell_type": "code",
   "execution_count": null,
   "id": "e3809861",
   "metadata": {},
   "outputs": [],
   "source": [
    "\"\"\"\n",
    "Question 4.Given the side length x find the area of a hexagon.\n",
    " \n",
    "Examples\n",
    "area_of_hexagon(1) ➞ 2.6\n",
    "\n",
    "area_of_hexagon(2) ➞ 10.4\n",
    "\n",
    "area_of_hexagon(3) ➞ 23.4\n",
    "\"\"\""
   ]
  },
  {
   "cell_type": "code",
   "execution_count": 18,
   "id": "f6efade1",
   "metadata": {},
   "outputs": [
    {
     "name": "stdout",
     "output_type": "stream",
     "text": [
      "Enter a number: 3\n",
      "23.4\n"
     ]
    }
   ],
   "source": [
    "import math\n",
    "\n",
    "def area_of_hexagon(input_number):\n",
    "    area = round(((3 * math.sqrt(3))/2) * input_number**2, 1)\n",
    "    return area\n",
    "\n",
    "input_number = int(input(\"Enter a number: \"))\n",
    "print(area_of_hexagon(input_number))"
   ]
  },
  {
   "cell_type": "code",
   "execution_count": 21,
   "id": "c0a0fa3f",
   "metadata": {},
   "outputs": [
    {
     "data": {
      "text/plain": [
       "'\\nQuestion 5. Create a function that returns a base-2 (binary) representation of a base-10 (decimal) string number. To convert is simple: ((2) means base-2 and (10) means base-10) 010101001(2) = 1 + 8 + 32 + 128.\\nGoing from right to left, the value of the most right bit is 1, now from that every bit to the left will be x2 the value, value of an 8 bit binary numbers are (256, 128, 64, 32, 16, 8, 4, 2, 1).\\nExamples\\nbinary(1) ➞ \"1\"\\n# 1*1 = 1\\n\\nbinary(5) ➞ \"101\"\\n# 1*1 + 1*4 = 5\\n\\nbinary(10) ➞ \"1010\"\\n# 1*2 + 1*8 = 10\\n'"
      ]
     },
     "execution_count": 21,
     "metadata": {},
     "output_type": "execute_result"
    }
   ],
   "source": [
    "\"\"\"\n",
    "Question 5. Create a function that returns a base-2 (binary) representation of a base-10 (decimal) string number. To convert is simple: ((2) means base-2 and (10) means base-10) 010101001(2) = 1 + 8 + 32 + 128.\n",
    "Going from right to left, the value of the most right bit is 1, now from that every bit to the left will be x2 the value, value of an 8 bit binary numbers are (256, 128, 64, 32, 16, 8, 4, 2, 1).\n",
    "Examples\n",
    "binary(1) ➞ \"1\"\n",
    "# 1*1 = 1\n",
    "\n",
    "binary(5) ➞ \"101\"\n",
    "# 1*1 + 1*4 = 5\n",
    "\n",
    "binary(10) ➞ \"1010\"\n",
    "# 1*2 + 1*8 = 10\n",
    "\"\"\""
   ]
  },
  {
   "cell_type": "code",
   "execution_count": 12,
   "id": "f27f9175",
   "metadata": {},
   "outputs": [
    {
     "name": "stdout",
     "output_type": "stream",
     "text": [
      "Enter a number: 56\n",
      "111000\n"
     ]
    }
   ],
   "source": [
    "def dec_to_bin(input_number):\n",
    "    bin_number = \"\"\n",
    "    while input_number != 0:\n",
    "        val = int(input_number % 2)\n",
    "        input_number = int(input_number/2)\n",
    "        bin_number += str(val)\n",
    "        \n",
    "    return bin_number[::-1]\n",
    "\n",
    "input_number = int(input(\"Enter a number: \"))\n",
    "print(dec_to_bin(input_number))    "
   ]
  },
  {
   "cell_type": "code",
   "execution_count": null,
   "id": "095538a7",
   "metadata": {},
   "outputs": [],
   "source": [
    "1  11000\n",
    "64168421"
   ]
  }
 ],
 "metadata": {
  "kernelspec": {
   "display_name": "Python 3 (ipykernel)",
   "language": "python",
   "name": "python3"
  },
  "language_info": {
   "codemirror_mode": {
    "name": "ipython",
    "version": 3
   },
   "file_extension": ".py",
   "mimetype": "text/x-python",
   "name": "python",
   "nbconvert_exporter": "python",
   "pygments_lexer": "ipython3",
   "version": "3.9.12"
  }
 },
 "nbformat": 4,
 "nbformat_minor": 5
}
