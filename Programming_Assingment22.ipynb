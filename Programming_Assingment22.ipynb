{
 "cells": [
  {
   "cell_type": "code",
   "execution_count": 1,
   "id": "99b3233c",
   "metadata": {},
   "outputs": [
    {
     "data": {
      "text/plain": [
       "'\\nQuestion1\\nCreate a function that takes three parameters where:\\n•\\tx is the start of the range (inclusive).\\n•\\ty is the end of the range (inclusive).\\n•\\tn is the divisor to be checked against.\\nReturn an ordered list with numbers in the range that are divisible by the third parameter n. Return an empty list if there are no numbers that are divisible by n.\\nExamples\\nlist_operation(1, 10, 3) ➞ [3, 6, 9]\\n\\nlist_operation(7, 9, 2) ➞ [8]\\n\\nlist_operation(15, 20, 7) ➞ []\\n\\n\\n\\n\\n'"
      ]
     },
     "execution_count": 1,
     "metadata": {},
     "output_type": "execute_result"
    }
   ],
   "source": [
    "\"\"\"\n",
    "Question1\n",
    "Create a function that takes three parameters where:\n",
    "•\tx is the start of the range (inclusive).\n",
    "•\ty is the end of the range (inclusive).\n",
    "•\tn is the divisor to be checked against.\n",
    "Return an ordered list with numbers in the range that are divisible by the third parameter n. Return an empty list if there are no numbers that are divisible by n.\n",
    "Examples\n",
    "list_operation(1, 10, 3) ➞ [3, 6, 9]\n",
    "\n",
    "list_operation(7, 9, 2) ➞ [8]\n",
    "\n",
    "list_operation(15, 20, 7) ➞ []\n",
    "\n",
    "\n",
    "\n",
    "\n",
    "\"\"\""
   ]
  },
  {
   "cell_type": "code",
   "execution_count": 2,
   "id": "f56ac84a",
   "metadata": {},
   "outputs": [
    {
     "name": "stdout",
     "output_type": "stream",
     "text": [
      "Enter starting element of range: 3\n",
      "Enter the ending element of range: 4\n",
      "Enter the divisor: 1\n"
     ]
    },
    {
     "data": {
      "text/plain": [
       "[3]"
      ]
     },
     "execution_count": 2,
     "metadata": {},
     "output_type": "execute_result"
    }
   ],
   "source": [
    "def list_operation(start,end,divisor):\n",
    "    op_l = []\n",
    "    for i in range(start, end):\n",
    "        if i % divisor == 0:\n",
    "            op_l.append(i)\n",
    "    return op_l\n",
    "    \n",
    "start = int(input(\"Enter starting element of range: \"))\n",
    "end = int(input(\"Enter the ending element of range: \"))\n",
    "divisor = int(input(\"Enter the divisor: \"))\n",
    "list_operation(start,end,divisor)"
   ]
  },
  {
   "cell_type": "code",
   "execution_count": 3,
   "id": "c25fe61d",
   "metadata": {},
   "outputs": [
    {
     "data": {
      "text/plain": [
       "'\\nQuestion2\\nCreate a function that takes in two lists and returns True if the second list follows the first list by one element, and False otherwise. In other words, determine if the second list is the first list shifted to the right by 1.\\nExamples\\nsimon_says([1, 2], [5, 1]) ➞ True\\n\\nsimon_says([1, 2], [5, 5]) ➞ False\\n\\nsimon_says([1, 2, 3, 4, 5], [0, 1, 2, 3, 4]) ➞ True\\n\\nsimon_says([1, 2, 3, 4, 5], [5, 5, 1, 2, 3]) ➞ False\\nNotes\\n•\\tBoth input lists will be of the same length, and will have a minimum length of 2.\\n•\\tThe values of the 0-indexed element in the second list and the n-1th indexed element in the first list do not matter.\\n\\n\\n'"
      ]
     },
     "execution_count": 3,
     "metadata": {},
     "output_type": "execute_result"
    }
   ],
   "source": [
    "\"\"\"\n",
    "Question2\n",
    "Create a function that takes in two lists and returns True if the second list follows the first list by one element, and False otherwise. In other words, determine if the second list is the first list shifted to the right by 1.\n",
    "Examples\n",
    "simon_says([1, 2], [5, 1]) ➞ True\n",
    "\n",
    "simon_says([1, 2], [5, 5]) ➞ False\n",
    "\n",
    "simon_says([1, 2, 3, 4, 5], [0, 1, 2, 3, 4]) ➞ True\n",
    "\n",
    "simon_says([1, 2, 3, 4, 5], [5, 5, 1, 2, 3]) ➞ False\n",
    "Notes\n",
    "•\tBoth input lists will be of the same length, and will have a minimum length of 2.\n",
    "•\tThe values of the 0-indexed element in the second list and the n-1th indexed element in the first list do not matter.\n",
    "\n",
    "\n",
    "\"\"\""
   ]
  },
  {
   "cell_type": "code",
   "execution_count": 10,
   "id": "b28fce02",
   "metadata": {},
   "outputs": [
    {
     "data": {
      "text/plain": [
       "True"
      ]
     },
     "execution_count": 10,
     "metadata": {},
     "output_type": "execute_result"
    }
   ],
   "source": [
    "def simon_says(in_list_1,in_list_2):\n",
    "    if len(in_list_1) == len(in_list_1) and len(in_list_1) >=2 and len(in_list_1) >=2:\n",
    "        if(in_list_1[:-1] == in_list_2[1:]):\n",
    "            return True\n",
    "        else:\n",
    "            return False\n",
    "            \n",
    "simon_says([1, 2], [5, 1])"
   ]
  },
  {
   "cell_type": "code",
   "execution_count": null,
   "id": "8bc35a39",
   "metadata": {},
   "outputs": [],
   "source": [
    "\"\"\"\n",
    "Question3\n",
    "A group of friends have decided to start a secret society. The name will be the first letter of each of their names, sorted in alphabetical order.\n",
    "Create a function that takes in a list of names and returns the name of the secret society.\n",
    "Examples\n",
    "society_name([\"Adam\", \"Sarah\", \"Malcolm\"]) ➞ \"AMS\"\n",
    "\n",
    "society_name([\"Harry\", \"Newt\", \"Luna\", \"Cho\"]) ➞ \"CHLN\"\n",
    "\n",
    "society_name([\"Phoebe\", \"Chandler\", \"Rachel\", \"Ross\", \"Monica\", \"Joey\"])\n",
    "\n",
    "\n",
    "\"\"\""
   ]
  },
  {
   "cell_type": "code",
   "execution_count": null,
   "id": "0421674f",
   "metadata": {},
   "outputs": [],
   "source": [
    "def society_name(ip_l1):\n",
    "    op_str = \"\"\n",
    "    for i in range(0,len(ip_l1)):\n",
    "        op_str += ip_l1[i][0]\n",
    "    return ''.join(sorted(op_str))\n",
    "        \n",
    "ip_l1 = [\"Adam\", \"Sarah\", \"Malcolm\"]\n",
    "op_str = society_name(ip_l1)\n",
    "print(\"Name of sccret society is:\", op_str)"
   ]
  },
  {
   "cell_type": "code",
   "execution_count": null,
   "id": "462939d3",
   "metadata": {},
   "outputs": [],
   "source": [
    "\"\"\"\n",
    "Question4\n",
    "An isogram is a word that has no duplicate letters. Create a function that takes a string and returns either True or False depending on whether or not it's an \"isogram\".\n",
    "Examples\n",
    "is_isogram(\"Algorism\") ➞ True\n",
    "\n",
    "is_isogram(\"PasSword\") ➞ False\n",
    "# Not case sensitive.\n",
    "\n",
    "is_isogram(\"Consecutive\") ➞ False\n",
    "Notes\n",
    "•\tIgnore letter case (should not be case sensitive).\n",
    "•\tAll test cases contain valid one word strings.\n",
    "\n",
    "\n",
    "\"\"\""
   ]
  },
  {
   "cell_type": "code",
   "execution_count": null,
   "id": "c4cff859",
   "metadata": {},
   "outputs": [],
   "source": [
    "def is_isogram(ip_str):\n",
    "    if \" \" in ip_str:\n",
    "        print(\"String contains space\")\n",
    "    else:\n",
    "        ip_str = ip_str.lower()\n",
    "        if len(set(ip_str)) == len(ip_str):\n",
    "            return True\n",
    "        else:\n",
    "            return False\n",
    "    \n",
    "ip_str = input(\"Enter a string: \")\n",
    "is_isogram(ip_str)"
   ]
  },
  {
   "cell_type": "code",
   "execution_count": null,
   "id": "3a76eae5",
   "metadata": {},
   "outputs": [],
   "source": [
    "\"\"\"\n",
    "Question5\n",
    "Create a function that takes a string and returns True or False, depending on whether the characters are in order or not.\n",
    "Examples\n",
    "is_in_order(\"abc\") ➞ True\n",
    "\n",
    "is_in_order(\"edabit\") ➞ False\n",
    "\n",
    "is_in_order(\"123\") ➞ True\n",
    "\n",
    "is_in_order(\"xyzz\") ➞ True\n",
    "Notes\n",
    "You don't have to handle empty strings.\n",
    "\"\"\""
   ]
  },
  {
   "cell_type": "code",
   "execution_count": null,
   "id": "00cf7770",
   "metadata": {},
   "outputs": [],
   "source": [
    "def is_in_order(ip_str):\n",
    "    if ip_str == ''.join(sorted(ip_str)):\n",
    "        return True\n",
    "    else:\n",
    "        return False\n",
    "    \n",
    "ip_str = input(\"Enter the string: \")\n",
    "is_in_order(ip_str)"
   ]
  },
  {
   "cell_type": "code",
   "execution_count": null,
   "id": "794d1b81",
   "metadata": {},
   "outputs": [],
   "source": []
  }
 ],
 "metadata": {
  "kernelspec": {
   "display_name": "Python 3 (ipykernel)",
   "language": "python",
   "name": "python3"
  },
  "language_info": {
   "codemirror_mode": {
    "name": "ipython",
    "version": 3
   },
   "file_extension": ".py",
   "mimetype": "text/x-python",
   "name": "python",
   "nbconvert_exporter": "python",
   "pygments_lexer": "ipython3",
   "version": "3.9.12"
  }
 },
 "nbformat": 4,
 "nbformat_minor": 5
}
